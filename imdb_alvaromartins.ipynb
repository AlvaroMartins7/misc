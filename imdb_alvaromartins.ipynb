{
  "nbformat": 4,
  "nbformat_minor": 0,
  "metadata": {
    "colab": {
      "provenance": [],
      "gpuType": "T4",
      "authorship_tag": "ABX9TyOGgM67LIBKt/MzFq/JP6iI",
      "include_colab_link": true
    },
    "kernelspec": {
      "name": "python3",
      "display_name": "Python 3"
    },
    "language_info": {
      "name": "python"
    },
    "accelerator": "GPU"
  },
  "cells": [
    {
      "cell_type": "markdown",
      "metadata": {
        "id": "view-in-github",
        "colab_type": "text"
      },
      "source": [
        "<a href=\"https://colab.research.google.com/github/AlvaroMartins7/misc/blob/main/imdb_alvaromartins.ipynb\" target=\"_parent\"><img src=\"https://colab.research.google.com/assets/colab-badge.svg\" alt=\"Open In Colab\"/></a>"
      ]
    },
    {
      "cell_type": "code",
      "execution_count": null,
      "metadata": {
        "id": "qulUs3ZA8UuL"
      },
      "outputs": [],
      "source": [
        "!pip install transformers datasets torch --quiet\n",
        "!pip install --upgrade datasets huggingface_hub --quiet\n",
        "!pip install fsspec==2023.6.0 --quiet"
      ]
    },
    {
      "cell_type": "code",
      "source": [
        "from datasets import load_dataset\n",
        "from huggingface_hub import login\n",
        "from google.colab import userdata\n",
        "\n",
        "# SETAR A CHAVE DO HUGGINGFACE\n",
        "login(token = userdata.get('HF_TOKEN'))\n",
        "\n",
        "# dataset IMDb\n",
        "dataset = load_dataset(\"imdb\")"
      ],
      "metadata": {
        "id": "hTgkrXLp8liA"
      },
      "execution_count": null,
      "outputs": []
    },
    {
      "cell_type": "code",
      "source": [
        "from transformers import pipeline\n",
        "\n",
        "sentiment_analyzer = pipeline(\"sentiment-analysis\")"
      ],
      "metadata": {
        "id": "liiQ_ULZ8ofj"
      },
      "execution_count": null,
      "outputs": []
    },
    {
      "cell_type": "code",
      "source": [
        "# Pega 5 exemplos de teste\n",
        "test_texts = dataset[\"test\"][\"text\"][:5]\n",
        "\n",
        "# Faz a análise\n",
        "results = sentiment_analyzer(test_texts)\n",
        "\n",
        "for text, result in zip(test_texts, results):\n",
        "    print(f\"Texto: {text[:250]}...\")\n",
        "    print(f\"Sentimento: {result['label']}, score: {result['score']:.4f}\")\n",
        "    print()\n"
      ],
      "metadata": {
        "id": "nsm6CRik9BXS"
      },
      "execution_count": null,
      "outputs": []
    },
    {
      "cell_type": "code",
      "source": [
        "# previsão\n",
        "test_texts = dataset[\"test\"][\"text\"]\n",
        "test_labels = dataset[\"test\"][\"label\"]\n",
        "\n",
        "max_length = 512\n",
        "\n",
        "test_texts_short = [text[:max_length] for text in test_texts]\n",
        "results = sentiment_analyzer(test_texts_short, batch_size=32)\n",
        "\n",
        "# Traduz rótulos de comparação\n",
        "def label_to_int(label):\n",
        "    return 1 if label == \"POSITIVE\" else 0\n",
        "\n",
        "pred_labels = [label_to_int(r[\"label\"]) for r in results]\n",
        "\n",
        "# acurácia\n",
        "correct = sum([p == t for p, t in zip(pred_labels, test_labels)])\n",
        "accuracy = correct / len(test_labels)\n",
        "print(f\"Acurácia no conjunto de teste: {accuracy:.4f}\")\n"
      ],
      "metadata": {
        "id": "73cxW5To9Fxt"
      },
      "execution_count": null,
      "outputs": []
    }
  ]
}