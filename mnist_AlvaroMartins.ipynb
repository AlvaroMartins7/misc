{
  "nbformat": 4,
  "nbformat_minor": 0,
  "metadata": {
    "colab": {
      "provenance": [],
      "gpuType": "T4",
      "authorship_tag": "ABX9TyNcrvoobBEr5KXbM8WLamUy",
      "include_colab_link": true
    },
    "kernelspec": {
      "name": "python3",
      "display_name": "Python 3"
    },
    "language_info": {
      "name": "python"
    },
    "accelerator": "GPU"
  },
  "cells": [
    {
      "cell_type": "markdown",
      "metadata": {
        "id": "view-in-github",
        "colab_type": "text"
      },
      "source": [
        "<a href=\"https://colab.research.google.com/github/AlvaroMartins7/misc/blob/main/mnist_AlvaroMartins.ipynb\" target=\"_parent\"><img src=\"https://colab.research.google.com/assets/colab-badge.svg\" alt=\"Open In Colab\"/></a>"
      ]
    },
    {
      "cell_type": "code",
      "execution_count": 1,
      "metadata": {
        "id": "AmCVvGu2BuHz"
      },
      "outputs": [],
      "source": [
        "!pip install torch tensorflow matplotlib --quiet"
      ]
    },
    {
      "cell_type": "code",
      "source": [
        "import torch\n",
        "from torch.utils.data import DataLoader, TensorDataset, random_split\n",
        "from tensorflow.keras.datasets import mnist\n",
        "import numpy as np\n",
        "import matplotlib.pyplot as plt\n",
        "\n",
        "# device do pytorch\n",
        "device = torch.device(\"cuda\" if torch.cuda.is_available() else \"cpu\")\n",
        "\n",
        "# carregando mnist\n",
        "(x_train, y_train), (x_test, y_test) = mnist.load_data()\n",
        "\n",
        "# normalizando os datasets\n",
        "x_train = x_train.astype(np.float32) / 255.0\n",
        "x_test = x_test.astype(np.float32) / 255.0\n",
        "x_train = np.expand_dims(x_train, axis=1)\n",
        "x_test = np.expand_dims(x_test, axis=1)\n",
        "\n",
        "# Exibindo uma amostra\n",
        "plt.imshow(x_train[0][0], cmap=\"gray\")\n",
        "plt.title(f\"Label: {y_train[0]}\")\n",
        "plt.axis(\"off\")\n",
        "plt.show()"
      ],
      "metadata": {
        "colab": {
          "base_uri": "https://localhost:8080/",
          "height": 428
        },
        "id": "NqQktxm_FQnM",
        "outputId": "e7e49952-5f0a-48c3-fa75-58c671166e29"
      },
      "execution_count": 2,
      "outputs": [
        {
          "output_type": "display_data",
          "data": {
            "text/plain": [
              "<Figure size 640x480 with 1 Axes>"
            ],
            "image/png": "[encoded data removed]"
          },
          "metadata": {}
        }
      ]
    },
    {
      "cell_type": "code",
      "source": [
        "# preparando tensores\n",
        "X_train = torch.tensor(x_train)\n",
        "y_train = torch.tensor(y_train, dtype=torch.long)\n",
        "X_test = torch.tensor(x_test)\n",
        "y_test = torch.tensor(y_test, dtype=torch.long)\n",
        "\n",
        "# preparando dataloaders\n",
        "train_dataset = TensorDataset(X_train, y_train)\n",
        "test_dataset = TensorDataset(X_test, y_test)\n",
        "\n",
        "train_loader = DataLoader(train_dataset, batch_size=64, shuffle=True)\n",
        "test_loader = DataLoader(test_dataset, batch_size=64)"
      ],
      "metadata": {
        "id": "WujSK6l1LVYf"
      },
      "execution_count": 3,
      "outputs": []
    },
    {
      "cell_type": "code",
      "source": [
        "import torch.nn as nn\n",
        "import torch.nn.functional as F\n",
        "\n",
        "# cnn\n",
        "class CNN(nn.Module):\n",
        "    def __init__(self):\n",
        "        super().__init__()\n",
        "        self.conv1 = nn.Conv2d(1, 32, kernel_size=3, padding=1)\n",
        "        self.pool = nn.MaxPool2d(2, 2)\n",
        "        self.conv2 = nn.Conv2d(32, 64, kernel_size=3, padding=1)\n",
        "        self.fc1 = nn.Linear(64 * 7 * 7, 128)\n",
        "        self.fc2 = nn.Linear(128, 10)\n",
        "\n",
        "    def forward(self, x):\n",
        "        x = self.pool(F.relu(self.conv1(x)))  # [batch, 32, 14, 14]\n",
        "        x = self.pool(F.relu(self.conv2(x)))  # [batch, 64, 7, 7]\n",
        "        x = x.view(-1, 64 * 7 * 7)\n",
        "        x = F.relu(self.fc1(x))\n",
        "        return self.fc2(x)"
      ],
      "metadata": {
        "id": "s0zHUYGhG2de"
      },
      "execution_count": 4,
      "outputs": []
    },
    {
      "cell_type": "code",
      "source": [
        "# treino\n",
        "model = CNN()\n",
        "device = torch.device(\"cuda\" if torch.cuda.is_available() else \"cpu\")\n",
        "model.to(device)\n",
        "\n",
        "criterion = nn.CrossEntropyLoss()\n",
        "optimizer = torch.optim.Adam(model.parameters(), lr=0.001)\n",
        "\n",
        "for epoch in range(50):\n",
        "    model.train()\n",
        "    total_loss = 0\n",
        "    for X, y in train_loader:\n",
        "        X, y = X.to(device), y.to(device)\n",
        "        optimizer.zero_grad()\n",
        "        output = model(X)\n",
        "        loss = criterion(output, y)\n",
        "        loss.backward()\n",
        "        optimizer.step()\n",
        "        total_loss += loss.item()\n",
        "    print(f\"Época {epoch+1}, perda média: {total_loss / len(train_loader):.4f}\")"
      ],
      "metadata": {
        "colab": {
          "base_uri": "https://localhost:8080/"
        },
        "id": "p4ygor9xJS3s",
        "outputId": "467dfc47-3eb6-41f1-a943-2a6727be722c"
      },
      "execution_count": 5,
      "outputs": [
        {
          "output_type": "stream",
          "name": "stdout",
          "text": [
            "Época 1, perda média: 0.1754\n",
            "Época 2, perda média: 0.0493\n",
            "Época 3, perda média: 0.0351\n",
            "Época 4, perda média: 0.0254\n",
            "Época 5, perda média: 0.0190\n",
            "Época 6, perda média: 0.0149\n",
            "Época 7, perda média: 0.0134\n",
            "Época 8, perda média: 0.0100\n",
            "Época 9, perda média: 0.0081\n",
            "Época 10, perda média: 0.0074\n",
            "Época 11, perda média: 0.0070\n",
            "Época 12, perda média: 0.0043\n",
            "Época 13, perda média: 0.0054\n",
            "Época 14, perda média: 0.0041\n",
            "Época 15, perda média: 0.0027\n",
            "Época 16, perda média: 0.0043\n",
            "Época 17, perda média: 0.0037\n",
            "Época 18, perda média: 0.0035\n",
            "Época 19, perda média: 0.0039\n",
            "Época 20, perda média: 0.0041\n",
            "Época 21, perda média: 0.0025\n",
            "Época 22, perda média: 0.0035\n",
            "Época 23, perda média: 0.0025\n",
            "Época 24, perda média: 0.0031\n",
            "Época 25, perda média: 0.0023\n",
            "Época 26, perda média: 0.0026\n",
            "Época 27, perda média: 0.0010\n",
            "Época 28, perda média: 0.0024\n",
            "Época 29, perda média: 0.0018\n",
            "Época 30, perda média: 0.0019\n",
            "Época 31, perda média: 0.0021\n",
            "Época 32, perda média: 0.0030\n",
            "Época 33, perda média: 0.0002\n",
            "Época 34, perda média: 0.0021\n",
            "Época 35, perda média: 0.0036\n",
            "Época 36, perda média: 0.0005\n",
            "Época 37, perda média: 0.0020\n",
            "Época 38, perda média: 0.0027\n",
            "Época 39, perda média: 0.0017\n",
            "Época 40, perda média: 0.0013\n",
            "Época 41, perda média: 0.0014\n",
            "Época 42, perda média: 0.0006\n",
            "Época 43, perda média: 0.0023\n",
            "Época 44, perda média: 0.0026\n",
            "Época 45, perda média: 0.0027\n",
            "Época 46, perda média: 0.0005\n",
            "Época 47, perda média: 0.0000\n",
            "Época 48, perda média: 0.0000\n",
            "Época 49, perda média: 0.0000\n",
            "Época 50, perda média: 0.0000\n"
          ]
        }
      ]
    },
    {
      "cell_type": "code",
      "source": [
        "# resultados\n",
        "model.eval()\n",
        "correct = 0\n",
        "total = 0\n",
        "with torch.no_grad():\n",
        "    for X, y in test_loader:\n",
        "        X, y = X.to(device), y.to(device)\n",
        "        outputs = model(X)\n",
        "        _, predicted = torch.max(outputs, 1)\n",
        "        total += y.size(0)\n",
        "        correct += (predicted == y).sum().item()\n",
        "\n",
        "print(f\"Acurácia no conjunto de teste: {100 * correct / total:.2f}%\")"
      ],
      "metadata": {
        "colab": {
          "base_uri": "https://localhost:8080/"
        },
        "id": "eH3QzsK8JFyo",
        "outputId": "913e0b26-9392-46e3-a3ad-fac4b0c93e1d"
      },
      "execution_count": 6,
      "outputs": [
        {
          "output_type": "stream",
          "name": "stdout",
          "text": [
            "Acurácia no conjunto de teste: 99.18%\n"
          ]
        }
      ]
    }
  ]
}